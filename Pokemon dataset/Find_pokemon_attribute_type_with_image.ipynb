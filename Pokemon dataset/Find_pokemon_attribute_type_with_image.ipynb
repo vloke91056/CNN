{
 "cells": [
  {
   "cell_type": "code",
   "execution_count": 1,
   "id": "287d8021-edc9-4a4e-8567-75ce81ec74e1",
   "metadata": {},
   "outputs": [],
   "source": [
    "import pandas as pd\n",
    "import matplotlib.pyplot as plt\n",
    "import numpy as np"
   ]
  },
  {
   "cell_type": "code",
   "execution_count": 6,
   "id": "cc92f9fc-2c20-443a-8b4d-b04b9b1dd739",
   "metadata": {},
   "outputs": [],
   "source": [
    "from matplotlib.image import imread"
   ]
  },
  {
   "cell_type": "code",
   "execution_count": 2,
   "id": "e521c90a-b7de-46be-8350-b0f01ded586c",
   "metadata": {},
   "outputs": [],
   "source": [
    "import os"
   ]
  },
  {
   "cell_type": "code",
   "execution_count": 3,
   "id": "af0079b2-bf12-470c-9801-96fd759e38f1",
   "metadata": {},
   "outputs": [
    {
     "data": {
      "text/plain": [
       "['parasect.png',\n",
       " 'lumineon.png',\n",
       " 'raikou.png',\n",
       " 'dedenne.png',\n",
       " 'pyroar.png',\n",
       " 'articuno.png',\n",
       " 'magmortar.png',\n",
       " 'bulbasaur.png',\n",
       " 'banette.png',\n",
       " 'staraptor.png',\n",
       " 'pidove.png',\n",
       " 'comfey.png',\n",
       " 'taillow.png',\n",
       " 'charizard.png',\n",
       " 'infernape.png',\n",
       " 'sandshrew.png',\n",
       " 'marshadow.png',\n",
       " 'alakazam.png',\n",
       " 'lickitung.png',\n",
       " 'starmie.png',\n",
       " 'yanmega.png',\n",
       " 'yveltal.png',\n",
       " 'zigzagoon.png',\n",
       " 'thundurus-incarnate.png',\n",
       " 'petilil.png',\n",
       " 'torterra.png',\n",
       " 'purugly.png',\n",
       " 'cresselia.png',\n",
       " 'regigigas.png',\n",
       " 'palkia.png',\n",
       " 'froakie.png',\n",
       " 'munna.png',\n",
       " 'bellossom.png',\n",
       " 'gabite.png',\n",
       " 'tapu-koko.png',\n",
       " 'mareep.png',\n",
       " 'shieldon.png',\n",
       " 'stoutland.png',\n",
       " 'accelgor.png',\n",
       " 'makuhita.png',\n",
       " 'seviper.png',\n",
       " 'tirtouga.png',\n",
       " 'lampent.png',\n",
       " 'tornadus-incarnate.png',\n",
       " 'nidoking.png',\n",
       " 'huntail.png',\n",
       " 'nosepass.png',\n",
       " 'carracosta.png',\n",
       " 'nidoqueen.png',\n",
       " 'inkay.png',\n",
       " 'archeops.png',\n",
       " 'avalugg.png',\n",
       " 'grubbin.png',\n",
       " 'sentret.png',\n",
       " 'golbat.png',\n",
       " 'skorupi.png',\n",
       " 'conkeldurr.png',\n",
       " 'jellicent.png',\n",
       " 'hoopa-confined.png',\n",
       " 'yungoos.png',\n",
       " 'meltan.png',\n",
       " 'meloetta-aria.png',\n",
       " 'luxio.png',\n",
       " 'binacle.png',\n",
       " 'galvantula.png',\n",
       " 'crawdaunt.png',\n",
       " 'hippopotas.png',\n",
       " 'swirlix.png',\n",
       " 'finneon.png',\n",
       " 'medicham.png',\n",
       " 'poliwrath.png',\n",
       " 'magnemite.png',\n",
       " 'florges.png',\n",
       " 'serperior.png',\n",
       " 'shinx.png',\n",
       " 'budew.png',\n",
       " 'shellos.png',\n",
       " 'gothita.png',\n",
       " 'keldeo-ordinary.png',\n",
       " 'porygon.png',\n",
       " 'alomomola.png',\n",
       " 'electrike.png',\n",
       " 'dratini.png',\n",
       " 'mienfoo.png',\n",
       " 'reshiram.png',\n",
       " 'sawsbuck.png',\n",
       " 'blaziken.png',\n",
       " 'lycanroc-midday.png',\n",
       " 'flareon.png',\n",
       " 'gliscor.png',\n",
       " 'heatran.png',\n",
       " 'beedrill.png',\n",
       " 'darmanitan-standard.png',\n",
       " 'butterfree.png',\n",
       " 'fletchinder.png',\n",
       " 'tsareena.png',\n",
       " 'ludicolo.png',\n",
       " 'phanpy.png',\n",
       " 'toxicroak.png',\n",
       " 'cyndaquil.png',\n",
       " 'swellow.png',\n",
       " 'machop.png',\n",
       " 'fletchling.png',\n",
       " 'naganadel.png',\n",
       " 'ariados.png',\n",
       " 'mr-mime.png',\n",
       " 'passimian.png',\n",
       " 'frogadier.png',\n",
       " 'roggenrola.png',\n",
       " 'shedinja.png',\n",
       " 'duosion.png',\n",
       " 'scraggy.png',\n",
       " 'gumshoos.png',\n",
       " 'latias.png',\n",
       " 'shelmet.png',\n",
       " 'sawk.png',\n",
       " 'venusaur.png',\n",
       " 'azelf.png',\n",
       " 'basculin-red-striped.png',\n",
       " 'musharna.png',\n",
       " 'drampa.png',\n",
       " 'liepard.png',\n",
       " 'aipom.png',\n",
       " 'seaking.png',\n",
       " 'xurkitree.png',\n",
       " 'meditite.png',\n",
       " 'heatmor.png',\n",
       " 'chandelure.png',\n",
       " 'ivysaur.png',\n",
       " 'gible.png',\n",
       " 'corphish.png',\n",
       " 'octillery.png',\n",
       " 'cubone.png',\n",
       " 'dusclops.png',\n",
       " 'koffing.png',\n",
       " 'gengar.png',\n",
       " 'larvitar.png',\n",
       " 'rampardos.png',\n",
       " 'tyrogue.png',\n",
       " 'wigglytuff.png',\n",
       " 'castform.png',\n",
       " 'dusknoir.png',\n",
       " 'chinchou.png',\n",
       " 'litleo.png',\n",
       " 'manectric.png',\n",
       " 'ditto.png',\n",
       " 'scrafty.png',\n",
       " 'kakuna.png',\n",
       " 'gastrodon.png',\n",
       " 'wingull.png',\n",
       " 'flaaffy.png',\n",
       " 'sunflora.png',\n",
       " 'gastly.png',\n",
       " 'delcatty.png',\n",
       " 'granbull.png',\n",
       " 'whismur.png',\n",
       " 'cleffa.png',\n",
       " 'growlithe.png',\n",
       " 'sigilyph.png',\n",
       " 'cascoon.png',\n",
       " 'rapidash.png',\n",
       " 'hydreigon.png',\n",
       " 'cryogonal.png',\n",
       " 'stunfisk.png',\n",
       " 'stantler.png',\n",
       " 'tapu-fini.png',\n",
       " 'steenee.png',\n",
       " 'snubbull.png',\n",
       " 'crabominable.png',\n",
       " 'surskit.png',\n",
       " 'ampharos.png',\n",
       " 'monferno.png',\n",
       " 'zygarde-50.png',\n",
       " 'rhydon.png',\n",
       " 'arbok.png',\n",
       " 'amaura.png',\n",
       " 'lucario.png',\n",
       " 'pupitar.png',\n",
       " 'elekid.png',\n",
       " 'goomy.png',\n",
       " 'vullaby.png',\n",
       " 'venipede.png',\n",
       " 'doublade.png',\n",
       " 'tangela.png',\n",
       " 'pignite.png',\n",
       " 'sandile.png',\n",
       " 'brionne.png',\n",
       " 'machamp.png',\n",
       " 'wailord.png',\n",
       " 'rhyhorn.png',\n",
       " 'ninjask.png',\n",
       " 'salandit.png',\n",
       " 'grotle.png',\n",
       " 'dragonair.png',\n",
       " 'mime-jr.png',\n",
       " 'zebstrika.png',\n",
       " 'pikachu.png',\n",
       " 'typhlosion.png',\n",
       " 'aromatisse.png',\n",
       " 'chimecho.png',\n",
       " 'diggersby.png',\n",
       " 'trevenant.png',\n",
       " 'audino.png',\n",
       " 'dodrio.png',\n",
       " 'azumarill.png',\n",
       " 'aggron.png',\n",
       " 'dialga.png',\n",
       " 'tapu-bulu.png',\n",
       " 'totodile.png',\n",
       " 'tauros.png',\n",
       " 'silcoon.png',\n",
       " 'cottonee.png',\n",
       " 'araquanid.png',\n",
       " 'gallade.png',\n",
       " 'tropius.png',\n",
       " 'bouffalant.png',\n",
       " 'meowstic-male.png',\n",
       " 'woobat.png',\n",
       " 'archen.png',\n",
       " 'ho-oh.png',\n",
       " 'noibat.png',\n",
       " 'wartortle.png',\n",
       " 'eevee.png',\n",
       " 'mewtwo.png',\n",
       " 'buneary.png',\n",
       " 'sableye.png',\n",
       " 'bidoof.png',\n",
       " 'braixen.png',\n",
       " 'elgyem.png',\n",
       " 'gloom.png',\n",
       " 'electabuzz.png',\n",
       " 'piloswine.png',\n",
       " 'miltank.png',\n",
       " 'guzzlord.png',\n",
       " 'cinccino.png',\n",
       " 'anorith.png',\n",
       " 'wurmple.png',\n",
       " 'shelgon.png',\n",
       " 'toxapex.png',\n",
       " 'swalot.png',\n",
       " 'lurantis.png',\n",
       " 'tyrunt.png',\n",
       " 'pidgey.png',\n",
       " 'quagsire.png',\n",
       " 'gurdurr.png',\n",
       " 'amoonguss.png',\n",
       " 'mankey.png',\n",
       " 'illumise.png',\n",
       " 'cacturne.png',\n",
       " 'igglybuff.png',\n",
       " 'minior-meteor.png',\n",
       " 'qwilfish.png',\n",
       " 'goldeen.png',\n",
       " 'abra.png',\n",
       " 'nidoran-f.png',\n",
       " 'purrloin.png',\n",
       " 'gulpin.png',\n",
       " 'giratina-altered.png',\n",
       " 'munchlax.png',\n",
       " 'crobat.png',\n",
       " 'volcanion.png',\n",
       " 'lillipup.png',\n",
       " 'xerneas.png',\n",
       " 'lapras.png',\n",
       " 'gyarados.png',\n",
       " 'walrein.png',\n",
       " 'sneasel.png',\n",
       " 'lickilicky.png',\n",
       " 'skuntank.png',\n",
       " 'murkrow.png',\n",
       " 'bibarel.png',\n",
       " 'tentacool.png',\n",
       " 'watchog.png',\n",
       " 'oshawott.png',\n",
       " 'pidgeotto.png',\n",
       " 'espurr.png',\n",
       " 'houndoom.png',\n",
       " 'nidorino.png',\n",
       " 'hariyama.png',\n",
       " 'talonflame.png',\n",
       " 'dustox.png',\n",
       " 'mimikyu.png',\n",
       " 'kommo-o.png',\n",
       " 'weepinbell.png',\n",
       " 'seel.png',\n",
       " 'pyukumuku.png',\n",
       " 'pineco.png',\n",
       " 'cosmog.png',\n",
       " 'kadabra.png',\n",
       " 'swablu.png',\n",
       " 'skitty.png',\n",
       " 'masquerain.png',\n",
       " 'minun.png',\n",
       " 'heracross.png',\n",
       " 'trapinch.png',\n",
       " 'girafarig.png',\n",
       " 'tyrantrum.png',\n",
       " 'graveler.png',\n",
       " 'poochyena.png',\n",
       " 'electivire.png',\n",
       " 'gourgeist-average.png',\n",
       " 'shiinotic.png',\n",
       " 'melmetal.png',\n",
       " 'ledian.png',\n",
       " 'cherrim.png',\n",
       " 'popplio.png',\n",
       " 'primeape.png',\n",
       " 'vanillish.png',\n",
       " 'probopass.png',\n",
       " 'skiploom.png',\n",
       " 'chesnaught.png',\n",
       " 'kyurem.png',\n",
       " 'carnivine.png',\n",
       " 'torracat.png',\n",
       " 'gardevoir.png',\n",
       " 'pinsir.png',\n",
       " 'snorunt.png',\n",
       " 'samurott.png',\n",
       " 'necrozma.png',\n",
       " 'smeargle.png',\n",
       " 'magby.png',\n",
       " 'ursaring.png',\n",
       " 'crabrawler.png',\n",
       " 'haxorus.png',\n",
       " 'geodude.png',\n",
       " 'foongus.png',\n",
       " 'hippowdon.png',\n",
       " 'delibird.png',\n",
       " 'oranguru.png',\n",
       " 'drapion.png',\n",
       " 'smoochum.png',\n",
       " 'scyther.png',\n",
       " 'stunky.png',\n",
       " 'swadloon.png',\n",
       " 'klefki.png',\n",
       " 'vivillon.png',\n",
       " 'honedge.png',\n",
       " 'entei.png',\n",
       " 'servine.png',\n",
       " 'zubat.png',\n",
       " 'umbreon.png',\n",
       " 'reuniclus.png',\n",
       " 'froslass.png',\n",
       " 'pheromosa.png',\n",
       " 'magcargo.png',\n",
       " 'boldore.png',\n",
       " 'genesect.png',\n",
       " 'larvesta.png',\n",
       " 'aegislash-blade.png',\n",
       " 'golett.png',\n",
       " 'kartana.png',\n",
       " 'voltorb.png',\n",
       " 'regirock.png',\n",
       " 'cherubi.png',\n",
       " 'barboach.png',\n",
       " 'wooper.png',\n",
       " 'escavalier.png',\n",
       " 'vileplume.png',\n",
       " 'mismagius.png',\n",
       " 'blastoise.png',\n",
       " 'litten.png',\n",
       " 'sealeo.png',\n",
       " 'snivy.png',\n",
       " 'snorlax.png',\n",
       " 'lopunny.png',\n",
       " 'persian.png',\n",
       " 'beartic.png',\n",
       " 'gothorita.png',\n",
       " 'rattata.png',\n",
       " 'starly.png',\n",
       " 'bewear.png',\n",
       " 'houndour.png',\n",
       " 'eelektrik.png',\n",
       " 'quilava.png',\n",
       " 'whimsicott.png',\n",
       " 'magikarp.png',\n",
       " 'drowzee.png',\n",
       " 'claydol.png',\n",
       " 'clamperl.png',\n",
       " 'seedot.png',\n",
       " 'garchomp.png',\n",
       " 'skiddo.png',\n",
       " 'hypno.png',\n",
       " 'weedle.png',\n",
       " 'stakataka.png',\n",
       " 'ambipom.png',\n",
       " 'spoink.png',\n",
       " 'pikipek.png',\n",
       " 'frillish.png',\n",
       " 'cutiefly.png',\n",
       " 'honchkrow.png',\n",
       " 'tympole.png',\n",
       " 'meganium.png',\n",
       " 'incineroar.png',\n",
       " 'lileep.png',\n",
       " 'pachirisu.png',\n",
       " 'tyranitar.png',\n",
       " 'magnezone.png',\n",
       " 'beldum.png',\n",
       " 'glameow.png',\n",
       " 'swanna.png',\n",
       " 'primarina.png',\n",
       " 'nuzleaf.png',\n",
       " 'zangoose.png',\n",
       " 'gogoat.png',\n",
       " 'jolteon.png',\n",
       " 'moltres.png',\n",
       " 'dragonite.png',\n",
       " 'golurk.png',\n",
       " 'metapod.png',\n",
       " 'golisopod.png',\n",
       " 'marowak.png',\n",
       " 'gigalith.png',\n",
       " 'emboar.png',\n",
       " 'exeggutor.png',\n",
       " 'magneton.png',\n",
       " 'mesprit.png',\n",
       " 'groudon.png',\n",
       " 'wobbuffet.png',\n",
       " 'delphox.png',\n",
       " 'exploud.png',\n",
       " 'mantyke.png',\n",
       " 'malamar.png',\n",
       " 'simisage.png',\n",
       " 'espeon.png',\n",
       " 'landorus-incarnate.png',\n",
       " 'paras.png',\n",
       " 'noctowl.png',\n",
       " 'hitmonlee.png',\n",
       " 'slaking.png',\n",
       " 'solrock.png',\n",
       " 'pelipper.png',\n",
       " 'komala.png',\n",
       " 'poliwhirl.png',\n",
       " 'palpitoad.png',\n",
       " 'eelektross.png',\n",
       " 'patrat.png',\n",
       " 'spheal.png',\n",
       " 'seadra.png',\n",
       " 'lotad.png',\n",
       " 'ralts.png',\n",
       " 'registeel.png',\n",
       " 'slurpuff.png',\n",
       " 'arcanine.png',\n",
       " 'fomantis.png',\n",
       " 'tangrowth.png',\n",
       " 'aerodactyl.png',\n",
       " 'bronzor.png',\n",
       " 'wishiwashi-solo.png',\n",
       " 'sylveon.png',\n",
       " 'kyogre.png',\n",
       " 'sharpedo.png',\n",
       " 'flabebe.png',\n",
       " 'quilladin.png',\n",
       " 'feebas.png',\n",
       " 'metagross.png',\n",
       " 'maractus.png',\n",
       " 'muk.png',\n",
       " 'empoleon.png',\n",
       " 'chimchar.png',\n",
       " 'staryu.png',\n",
       " 'pancham.png',\n",
       " 'dwebble.png',\n",
       " 'bruxish.png',\n",
       " 'joltik.png',\n",
       " 'armaldo.png',\n",
       " 'wormadam-plant.png',\n",
       " 'phione.png',\n",
       " 'rhyperior.png',\n",
       " 'pansear.png',\n",
       " 'happiny.png',\n",
       " 'spearow.png',\n",
       " 'helioptile.png',\n",
       " 'fearow.png',\n",
       " 'prinplup.png',\n",
       " 'diancie.png',\n",
       " 'poipole.png',\n",
       " 'klink.png',\n",
       " 'farfetchd.png',\n",
       " 'gorebyss.png',\n",
       " 'noivern.png',\n",
       " 'herdier.png',\n",
       " 'tynamo.png',\n",
       " 'whiscash.png',\n",
       " 'nidoran-m.png',\n",
       " 'diglett.png',\n",
       " 'krokorok.png',\n",
       " 'scizor.png',\n",
       " 'nihilego.png',\n",
       " 'skarmory.png',\n",
       " 'remoraid.png',\n",
       " 'hitmontop.png',\n",
       " 'cosmoem.png',\n",
       " 'slowbro.png',\n",
       " 'numel.png',\n",
       " 'glalie.png',\n",
       " 'vaporeon.png',\n",
       " 'porygon-z.png',\n",
       " 'lunatone.png',\n",
       " 'machoke.png',\n",
       " 'mareanie.png',\n",
       " 'bastiodon.png',\n",
       " 'mandibuzz.png',\n",
       " 'arceus.png',\n",
       " 'throh.png',\n",
       " 'abomasnow.png',\n",
       " 'bronzong.png',\n",
       " 'greninja.png',\n",
       " 'hoppip.png',\n",
       " 'kecleon.png',\n",
       " 'crustle.png',\n",
       " 'shuppet.png',\n",
       " 'ducklett.png',\n",
       " 'plusle.png',\n",
       " 'poliwag.png',\n",
       " 'treecko.png',\n",
       " 'torchic.png',\n",
       " 'kabutops.png',\n",
       " 'dunsparce.png',\n",
       " 'flygon.png',\n",
       " 'dugtrio.png',\n",
       " 'marill.png',\n",
       " 'magearna.png',\n",
       " 'silvally.png',\n",
       " 'cacnea.png',\n",
       " 'slugma.png',\n",
       " 'oddish.png',\n",
       " 'jirachi.png',\n",
       " 'ribombee.png',\n",
       " 'litwick.png',\n",
       " 'pidgeot.png',\n",
       " 'sandslash.png',\n",
       " 'drilbur.png',\n",
       " 'cranidos.png',\n",
       " 'chansey.png',\n",
       " 'blacephalon.png',\n",
       " 'camerupt.png',\n",
       " 'pichu.png',\n",
       " 'duskull.png',\n",
       " 'kangaskhan.png',\n",
       " 'chingling.png',\n",
       " 'whirlipede.png',\n",
       " 'ferroseed.png',\n",
       " 'toucannon.png',\n",
       " 'barbaracle.png',\n",
       " 'salamence.png',\n",
       " 'zekrom.png',\n",
       " 'haunter.png',\n",
       " 'glaceon.png',\n",
       " 'shaymin-land.png',\n",
       " 'golduck.png',\n",
       " 'milotic.png',\n",
       " 'politoed.png',\n",
       " 'absol.png',\n",
       " 'mienshao.png',\n",
       " 'aron.png',\n",
       " 'tepig.png',\n",
       " 'klang.png',\n",
       " 'zapdos.png',\n",
       " 'clauncher.png',\n",
       " 'riolu.png',\n",
       " 'raichu.png',\n",
       " 'hitmonchan.png',\n",
       " 'slakoth.png',\n",
       " 'ponyta.png',\n",
       " 'togepi.png',\n",
       " 'pumpkaboo-average.png',\n",
       " 'snover.png',\n",
       " 'solosis.png',\n",
       " 'fraxure.png',\n",
       " 'caterpie.png',\n",
       " 'psyduck.png',\n",
       " 'teddiursa.png',\n",
       " 'tapu-lele.png',\n",
       " 'piplup.png',\n",
       " 'darumaka.png',\n",
       " 'weavile.png',\n",
       " 'mawile.png',\n",
       " 'sewaddle.png',\n",
       " 'unfezant.png',\n",
       " 'buzzwole.png',\n",
       " 'rockruff.png',\n",
       " 'manaphy.png',\n",
       " 'bunnelby.png',\n",
       " 'seismitoad.png',\n",
       " 'simipour.png',\n",
       " 'vanilluxe.png',\n",
       " 'cubchoo.png',\n",
       " 'mantine.png',\n",
       " 'dartrix.png',\n",
       " 'weezing.png',\n",
       " 'corsola.png',\n",
       " 'roserade.png',\n",
       " 'carbink.png',\n",
       " 'heliolisk.png',\n",
       " 'omanyte.png',\n",
       " 'rufflet.png',\n",
       " 'mothim.png',\n",
       " 'klinklang.png',\n",
       " 'sliggoo.png',\n",
       " 'raticate.png',\n",
       " 'dhelmise.png',\n",
       " 'vibrava.png',\n",
       " 'shiftry.png',\n",
       " 'swampert.png',\n",
       " 'excadrill.png',\n",
       " 'morelull.png',\n",
       " 'chatot.png',\n",
       " 'jigglypuff.png',\n",
       " 'loudred.png',\n",
       " 'forretress.png',\n",
       " 'togetic.png',\n",
       " 'feraligatr.png',\n",
       " 'bisharp.png',\n",
       " 'vikavolt.png',\n",
       " 'victreebel.png',\n",
       " 'decidueye.png',\n",
       " 'spinarak.png',\n",
       " 'onix.png',\n",
       " 'aurorus.png',\n",
       " 'venonat.png',\n",
       " 'wimpod.png',\n",
       " 'nidorina.png',\n",
       " 'tranquill.png',\n",
       " 'buizel.png',\n",
       " 'mightyena.png',\n",
       " 'vulpix.png',\n",
       " 'clawitzer.png',\n",
       " 'lilligant.png',\n",
       " 'togedemaru.png',\n",
       " 'minccino.png',\n",
       " 'charjabug.png',\n",
       " 'doduo.png',\n",
       " 'ferrothorn.png',\n",
       " 'misdreavus.png',\n",
       " 'kingdra.png',\n",
       " 'shuckle.png',\n",
       " 'rayquaza.png',\n",
       " 'palossand.png',\n",
       " 'mudbray.png',\n",
       " 'kricketune.png',\n",
       " 'skrelp.png',\n",
       " 'luxray.png',\n",
       " 'ledyba.png',\n",
       " 'baltoy.png',\n",
       " 'trumbeak.png',\n",
       " 'dewpider.png',\n",
       " 'sandygast.png',\n",
       " 'yanma.png',\n",
       " 'lugia.png',\n",
       " 'turtonator.png',\n",
       " 'hawlucha.png',\n",
       " 'leavanny.png',\n",
       " 'vespiquen.png',\n",
       " 'solgaleo.png',\n",
       " 'squirtle.png',\n",
       " 'slowking.png',\n",
       " 'exeggcute.png',\n",
       " 'emolga.png',\n",
       " 'carvanha.png',\n",
       " 'clefairy.png',\n",
       " 'bayleef.png',\n",
       " 'drifloon.png',\n",
       " 'stufful.png',\n",
       " 'sceptile.png',\n",
       " 'azurill.png',\n",
       " 'chespin.png',\n",
       " 'jangmo-o.png',\n",
       " 'panpour.png',\n",
       " 'staravia.png',\n",
       " 'linoone.png',\n",
       " 'spiritomb.png',\n",
       " 'zoroark.png',\n",
       " 'chikorita.png',\n",
       " 'vanillite.png',\n",
       " 'scatterbug.png',\n",
       " 'spinda.png',\n",
       " 'beheeyem.png',\n",
       " 'grimer.png',\n",
       " 'leafeon.png',\n",
       " 'deerling.png',\n",
       " 'celebi.png',\n",
       " 'breloom.png',\n",
       " 'turtwig.png',\n",
       " 'zweilous.png',\n",
       " 'burmy.png',\n",
       " 'swinub.png',\n",
       " 'axew.png',\n",
       " 'pangoro.png',\n",
       " 'darkrai.png',\n",
       " 'krabby.png',\n",
       " 'dewgong.png',\n",
       " 'volcarona.png',\n",
       " 'vigoroth.png',\n",
       " 'ninetales.png',\n",
       " 'pawniard.png',\n",
       " 'blitzle.png',\n",
       " 'porygon2.png',\n",
       " 'croagunk.png',\n",
       " 'xatu.png',\n",
       " 'lairon.png',\n",
       " 'tentacruel.png',\n",
       " 'krookodile.png',\n",
       " 'gothitelle.png',\n",
       " 'regice.png',\n",
       " 'goodra.png',\n",
       " 'meowth.png',\n",
       " 'grovyle.png',\n",
       " 'volbeat.png',\n",
       " 'unown.png',\n",
       " 'terrakion.png',\n",
       " 'deoxys-normal.png',\n",
       " 'togekiss.png',\n",
       " 'kricketot.png',\n",
       " 'zeraora.png',\n",
       " 'bellsprout.png',\n",
       " 'luvdisc.png',\n",
       " 'garbodor.png',\n",
       " 'horsea.png',\n",
       " 'nincada.png',\n",
       " 'dragalge.png',\n",
       " 'electrode.png',\n",
       " 'salazzle.png',\n",
       " 'fennekin.png',\n",
       " 'metang.png',\n",
       " 'donphan.png',\n",
       " 'jynx.png',\n",
       " 'yamask.png',\n",
       " 'druddigon.png',\n",
       " 'kabuto.png',\n",
       " 'magmar.png',\n",
       " 'swoobat.png',\n",
       " 'braviary.png',\n",
       " 'charmander.png',\n",
       " 'rowlet.png',\n",
       " 'lombre.png',\n",
       " 'durant.png',\n",
       " 'golem.png',\n",
       " 'sunkern.png',\n",
       " 'dewott.png',\n",
       " 'croconaw.png',\n",
       " 'cobalion.png',\n",
       " 'pansage.png',\n",
       " 'deino.png',\n",
       " 'spewpa.png',\n",
       " 'floette.png',\n",
       " 'combee.png',\n",
       " 'cofagrigus.png',\n",
       " 'furfrou.png',\n",
       " 'oricorio-baile.png',\n",
       " 'furret.png',\n",
       " 'clefable.png',\n",
       " 'wailmer.png',\n",
       " 'grumpig.png',\n",
       " 'charmeleon.png',\n",
       " 'phantump.png',\n",
       " 'venomoth.png',\n",
       " 'natu.png',\n",
       " 'simisear.png',\n",
       " 'blissey.png',\n",
       " 'spritzee.png',\n",
       " 'virizion.png',\n",
       " 'scolipede.png',\n",
       " 'mamoswine.png',\n",
       " 'kirlia.png',\n",
       " 'omastar.png',\n",
       " 'steelix.png',\n",
       " 'rotom.png',\n",
       " 'hoothoot.png',\n",
       " 'karrablast.png',\n",
       " 'torkoal.png',\n",
       " 'victini.png',\n",
       " 'cloyster.png',\n",
       " 'relicanth.png',\n",
       " 'wynaut.png',\n",
       " 'zorua.png',\n",
       " 'timburr.png',\n",
       " 'drifblim.png',\n",
       " 'altaria.png',\n",
       " 'cradily.png',\n",
       " 'mudkip.png',\n",
       " 'lunala.png',\n",
       " 'mudsdale.png',\n",
       " 'shellder.png',\n",
       " 'jumpluff.png',\n",
       " 'bounsweet.png',\n",
       " 'trubbish.png',\n",
       " 'beautifly.png',\n",
       " 'bagon.png',\n",
       " 'celesteela.png',\n",
       " 'marshtomp.png',\n",
       " 'uxie.png',\n",
       " 'suicune.png',\n",
       " 'sudowoodo.png',\n",
       " 'bergmite.png',\n",
       " 'lanturn.png',\n",
       " 'kingler.png',\n",
       " 'shroomish.png',\n",
       " 'gligar.png',\n",
       " 'roselia.png',\n",
       " 'bonsly.png',\n",
       " 'type-null.png',\n",
       " 'combusken.png',\n",
       " 'slowpoke.png',\n",
       " 'floatzel.png',\n",
       " 'latios.png',\n",
       " 'mew.png',\n",
       " 'ekans.png',\n",
       " 'hakamo-o.png']"
      ]
     },
     "execution_count": 3,
     "metadata": {},
     "output_type": "execute_result"
    }
   ],
   "source": [
    "os.listdir(\"./images/\")"
   ]
  },
  {
   "cell_type": "code",
   "execution_count": 9,
   "id": "a0d2321a-da97-42d5-85b1-b28c2569cce2",
   "metadata": {},
   "outputs": [
    {
     "data": {
      "text/plain": [
       "<matplotlib.image.AxesImage at 0x113e66ad0>"
      ]
     },
     "execution_count": 9,
     "metadata": {},
     "output_type": "execute_result"
    },
    {
     "data": {
      "image/png": "[encoded data removed]",
      "text/plain": [
       "<Figure size 640x480 with 1 Axes>"
      ]
     },
     "metadata": {},
     "output_type": "display_data"
    }
   ],
   "source": [
    "plt.imshow(imread(\"./images/lumineon.png\"))"
   ]
  },
  {
   "cell_type": "code",
   "execution_count": 10,
   "id": "df4bddd8-2f1b-4b55-b465-cf2cfdde3061",
   "metadata": {},
   "outputs": [
    {
     "data": {
      "text/plain": [
       "(120, 120, 4)"
      ]
     },
     "execution_count": 10,
     "metadata": {},
     "output_type": "execute_result"
    }
   ],
   "source": [
    "imread(\"./images/lumineon.png\").shape"
   ]
  },
  {
   "cell_type": "code",
   "execution_count": 11,
   "id": "6842513a-4091-450e-9641-05568a4d85f8",
   "metadata": {},
   "outputs": [],
   "source": [
    "data = pd.read_csv(\"pokemon.csv\")"
   ]
  },
  {
   "cell_type": "code",
   "execution_count": 14,
   "id": "e354581f-2ab6-4309-ae28-05b2b047797e",
   "metadata": {},
   "outputs": [
    {
     "data": {
      "text/plain": [
       "Type1\n",
       "Water       114\n",
       "Normal      105\n",
       "Grass        78\n",
       "Bug          72\n",
       "Fire         53\n",
       "Psychic      53\n",
       "Rock         46\n",
       "Electric     40\n",
       "Poison       34\n",
       "Ground       32\n",
       "Dark         29\n",
       "Fighting     29\n",
       "Ghost        27\n",
       "Dragon       27\n",
       "Steel        26\n",
       "Ice          23\n",
       "Fairy        18\n",
       "Flying        3\n",
       "Name: count, dtype: int64"
      ]
     },
     "execution_count": 14,
     "metadata": {},
     "output_type": "execute_result"
    }
   ],
   "source": [
    "data['Type1'].value_counts()"
   ]
  },
  {
   "cell_type": "code",
   "execution_count": 17,
   "id": "932280e0-eff0-4129-ac4d-dc18b52cc458",
   "metadata": {},
   "outputs": [
    {
     "data": {
      "text/plain": [
       "array(['Grass', 'Fire', 'Water', 'Bug', 'Normal', 'Poison', 'Electric',\n",
       "       'Ground', 'Fairy', 'Fighting', 'Psychic', 'Rock', 'Ghost', 'Ice',\n",
       "       'Dragon', 'Dark', 'Steel', 'Flying'], dtype=object)"
      ]
     },
     "execution_count": 17,
     "metadata": {},
     "output_type": "execute_result"
    }
   ],
   "source": [
    "data['Type1'].unique()"
   ]
  },
  {
   "cell_type": "code",
   "execution_count": 16,
   "id": "8ead34bd-b4f8-4ee3-99d7-c0569d47253b",
   "metadata": {},
   "outputs": [
    {
     "data": {
      "text/plain": [
       "809"
      ]
     },
     "execution_count": 16,
     "metadata": {},
     "output_type": "execute_result"
    }
   ],
   "source": [
    "data['Name'].nunique()"
   ]
  },
  {
   "cell_type": "code",
   "execution_count": 18,
   "id": "8c124aaf-dba4-4d07-a59b-6b992c83ce3f",
   "metadata": {},
   "outputs": [],
   "source": [
    "dic = {}"
   ]
  },
  {
   "cell_type": "code",
   "execution_count": 19,
   "id": "171aca03-3f28-42fc-b1e2-f050da9b10ce",
   "metadata": {},
   "outputs": [],
   "source": [
    "unique_types = data['Type1'].unique()"
   ]
  },
  {
   "cell_type": "code",
   "execution_count": 23,
   "id": "4fa8cb98-ef4c-414d-84ca-d0829d738aa1",
   "metadata": {},
   "outputs": [
    {
     "data": {
      "text/plain": [
       "1"
      ]
     },
     "execution_count": 23,
     "metadata": {},
     "output_type": "execute_result"
    }
   ],
   "source": [
    "np.argmax(unique_types=='Fire')"
   ]
  },
  {
   "cell_type": "code",
   "execution_count": 24,
   "id": "2e837cc1-76fa-4f96-9bad-693014a641b0",
   "metadata": {},
   "outputs": [],
   "source": [
    "images_list = os.listdir(\"./images/\")"
   ]
  },
  {
   "cell_type": "code",
   "execution_count": 25,
   "id": "c77241a3-66dd-47f3-90dd-5ca836f8f30c",
   "metadata": {},
   "outputs": [
    {
     "data": {
      "text/plain": [
       "809"
      ]
     },
     "execution_count": 25,
     "metadata": {},
     "output_type": "execute_result"
    }
   ],
   "source": [
    "len(images_list)"
   ]
  },
  {
   "cell_type": "code",
   "execution_count": 26,
   "id": "421feb91-4ebc-4215-985e-d6fbeac25b71",
   "metadata": {},
   "outputs": [],
   "source": [
    "n_types = data['Type1'].nunique()"
   ]
  },
  {
   "cell_type": "code",
   "execution_count": 32,
   "id": "d3550287-c19b-4325-bbc7-939a494c411e",
   "metadata": {},
   "outputs": [
    {
     "data": {
      "text/plain": [
       "0.0"
      ]
     },
     "execution_count": 32,
     "metadata": {},
     "output_type": "execute_result"
    }
   ],
   "source": [
    "np.zeros((18,))[0]"
   ]
  },
  {
   "cell_type": "code",
   "execution_count": 38,
   "id": "934ca8d9-f262-4148-b6c0-51f0527b97d3",
   "metadata": {},
   "outputs": [],
   "source": [
    "X = []\n",
    "y = []\n",
    "for i in images_list:\n",
    "    X.append(imread(\"./images//\"+i))\n",
    "    dum = np.zeros((n_types,))\n",
    "    # print(i)\n",
    "    # print(data.loc[data['Name']==i[:-4],'Type1'].values[0])\n",
    "    dum[np.argmax(unique_types==data.loc[data['Name']==i[:-4],'Type1'].values[0])] = 1\n",
    "    y.append(dum)"
   ]
  },
  {
   "cell_type": "code",
   "execution_count": 39,
   "id": "9ea56413-2ea9-4a37-b9ad-bd43684ba26a",
   "metadata": {},
   "outputs": [],
   "source": [
    "X = np.array(X)\n",
    "y = np.array(y)"
   ]
  },
  {
   "cell_type": "code",
   "execution_count": 54,
   "id": "09fabba5-cdfa-409e-aa3e-b6d59b3e2991",
   "metadata": {},
   "outputs": [
    {
     "data": {
      "text/plain": [
       "(120, 120, 4)"
      ]
     },
     "execution_count": 54,
     "metadata": {},
     "output_type": "execute_result"
    }
   ],
   "source": [
    "X[0].shape"
   ]
  },
  {
   "cell_type": "code",
   "execution_count": 42,
   "id": "947d293e-e249-451c-ac12-91f0662b9cd1",
   "metadata": {},
   "outputs": [
    {
     "data": {
      "text/plain": [
       "(809, 18)"
      ]
     },
     "execution_count": 42,
     "metadata": {},
     "output_type": "execute_result"
    }
   ],
   "source": [
    "y.shape"
   ]
  },
  {
   "cell_type": "code",
   "execution_count": 43,
   "id": "e7dedc14-1a2b-4fc4-a6f8-611d0c40d68a",
   "metadata": {},
   "outputs": [
    {
     "data": {
      "text/plain": [
       "<matplotlib.image.AxesImage at 0x117d16f80>"
      ]
     },
     "execution_count": 43,
     "metadata": {},
     "output_type": "execute_result"
    },
    {
     "data": {
      "image/png": "[encoded data removed]",
      "text/plain": [
       "<Figure size 640x480 with 1 Axes>"
      ]
     },
     "metadata": {},
     "output_type": "display_data"
    }
   ],
   "source": [
    "plt.imshow(X[0])"
   ]
  },
  {
   "cell_type": "code",
   "execution_count": 48,
   "id": "2bb12979-f7f0-427c-81f2-0b96d9ea0a30",
   "metadata": {},
   "outputs": [
    {
     "name": "stdout",
     "output_type": "stream",
     "text": [
      "Dragon\n",
      "Poison\n",
      "Psychic\n",
      "Dragon\n",
      "Water\n",
      "Water\n",
      "Fire\n",
      "Normal\n",
      "Rock\n"
     ]
    }
   ],
   "source": [
    "for i in range(1,10):\n",
    "    print(unique_types[np.argmax(y[-i])])"
   ]
  },
  {
   "cell_type": "code",
   "execution_count": 51,
   "id": "34012f71-678c-4fca-9e06-f34d0f831571",
   "metadata": {},
   "outputs": [],
   "source": [
    "X_train, y_train, X_test, y_test = X[:-10],y[:-10],X[-10:],y[-10:] "
   ]
  },
  {
   "cell_type": "code",
   "execution_count": 52,
   "id": "cf9e1a42-787c-4d59-8d29-e0ba18128245",
   "metadata": {},
   "outputs": [
    {
     "name": "stderr",
     "output_type": "stream",
     "text": [
      "2024-04-07 23:42:49.578642: I tensorflow/core/platform/cpu_feature_guard.cc:182] This TensorFlow binary is optimized to use available CPU instructions in performance-critical operations.\n",
      "To enable the following instructions: AVX2 FMA, in other operations, rebuild TensorFlow with the appropriate compiler flags.\n"
     ]
    }
   ],
   "source": [
    "from tensorflow.keras.models import Sequential"
   ]
  },
  {
   "cell_type": "code",
   "execution_count": 53,
   "id": "1092fe31-8b6f-4cc3-9d5f-f7656fc0c7ae",
   "metadata": {},
   "outputs": [],
   "source": [
    "from tensorflow.keras.layers import Dense,Conv2D, MaxPool2D, Flatten"
   ]
  },
  {
   "cell_type": "code",
   "execution_count": 57,
   "id": "cd0b5449-ba40-43e4-841e-ade849791e69",
   "metadata": {},
   "outputs": [],
   "source": [
    "model = Sequential()\n",
    "\n",
    "model.add(Conv2D(filters = 64, kernel_size=(4,4), input_shape = (120, 120, 4), activation = 'relu'))\n",
    "model.add(MaxPool2D())\n",
    "\n",
    "model.add(Conv2D(filters = 64, kernel_size=(4,4), input_shape = (120, 120, 4), activation = 'relu'))\n",
    "model.add(MaxPool2D())\n",
    "\n",
    "model.add(Flatten())\n",
    "model.add(Dense(units = 256, activation = 'relu'))\n",
    "\n",
    "model.add(Dense(units = n_types, activation='softmax'))\n",
    "\n",
    "model.compile(loss = 'categorical_crossentropy', optimizer = 'adam', metrics = ['accuracy'])"
   ]
  },
  {
   "cell_type": "code",
   "execution_count": 58,
   "id": "c847a49e-ab65-42a8-a903-6013ac5f86b4",
   "metadata": {},
   "outputs": [
    {
     "name": "stdout",
     "output_type": "stream",
     "text": [
      "Model: \"sequential_2\"\n",
      "_________________________________________________________________\n",
      " Layer (type)                Output Shape              Param #   \n",
      "=================================================================\n",
      " conv2d_2 (Conv2D)           (None, 117, 117, 64)      4160      \n",
      "                                                                 \n",
      " max_pooling2d_2 (MaxPoolin  (None, 58, 58, 64)        0         \n",
      " g2D)                                                            \n",
      "                                                                 \n",
      " conv2d_3 (Conv2D)           (None, 55, 55, 64)        65600     \n",
      "                                                                 \n",
      " max_pooling2d_3 (MaxPoolin  (None, 27, 27, 64)        0         \n",
      " g2D)                                                            \n",
      "                                                                 \n",
      " flatten_1 (Flatten)         (None, 46656)             0         \n",
      "                                                                 \n",
      " dense_2 (Dense)             (None, 256)               11944192  \n",
      "                                                                 \n",
      " dense_3 (Dense)             (None, 18)                4626      \n",
      "                                                                 \n",
      "=================================================================\n",
      "Total params: 12018578 (45.85 MB)\n",
      "Trainable params: 12018578 (45.85 MB)\n",
      "Non-trainable params: 0 (0.00 Byte)\n",
      "_________________________________________________________________\n"
     ]
    }
   ],
   "source": [
    "model.summary()"
   ]
  },
  {
   "cell_type": "code",
   "execution_count": 59,
   "id": "2e93a9fa-accb-4f7a-a3af-f3e4b098fe7a",
   "metadata": {},
   "outputs": [],
   "source": [
    "from tensorflow.keras.callbacks import EarlyStopping"
   ]
  },
  {
   "cell_type": "code",
   "execution_count": 63,
   "id": "f3cf0aff-543d-44cb-b09f-d8e6ce2b3bb7",
   "metadata": {},
   "outputs": [],
   "source": [
    "early_stop = EarlyStopping(monitor='val_loss', patience = 5)"
   ]
  },
  {
   "cell_type": "code",
   "execution_count": 64,
   "id": "178cc1ca-2e19-4fd7-a572-4c1262d440f4",
   "metadata": {},
   "outputs": [
    {
     "name": "stdout",
     "output_type": "stream",
     "text": [
      "Epoch 1/10\n",
      "25/25 [==============================] - 32s 1s/step - loss: 0.6720 - accuracy: 0.7972 - val_loss: 4.4815 - val_accuracy: 0.0000e+00\n",
      "Epoch 2/10\n",
      "25/25 [==============================] - 31s 1s/step - loss: 0.2086 - accuracy: 0.9474 - val_loss: 5.3552 - val_accuracy: 0.2000\n",
      "Epoch 3/10\n",
      "25/25 [==============================] - 27s 1s/step - loss: 0.0648 - accuracy: 0.9800 - val_loss: 6.7294 - val_accuracy: 0.1000\n",
      "Epoch 4/10\n",
      "25/25 [==============================] - 26s 1s/step - loss: 0.0176 - accuracy: 0.9987 - val_loss: 6.6103 - val_accuracy: 0.1000\n",
      "Epoch 5/10\n",
      "25/25 [==============================] - 27s 1s/step - loss: 0.0041 - accuracy: 1.0000 - val_loss: 7.0460 - val_accuracy: 0.1000\n",
      "Epoch 6/10\n",
      "25/25 [==============================] - 26s 1s/step - loss: 0.0016 - accuracy: 1.0000 - val_loss: 7.0140 - val_accuracy: 0.1000\n"
     ]
    },
    {
     "data": {
      "text/plain": [
       "<keras.src.callbacks.History at 0x131752020>"
      ]
     },
     "execution_count": 64,
     "metadata": {},
     "output_type": "execute_result"
    }
   ],
   "source": [
    "model.fit(X_train,y_train, epochs = 10, validation_data=(X_test,y_test), callbacks=[early_stop])"
   ]
  },
  {
   "cell_type": "code",
   "execution_count": 104,
   "id": "29a8dde2-c470-41e2-8699-eeddee2ecb93",
   "metadata": {},
   "outputs": [
    {
     "name": "stdout",
     "output_type": "stream",
     "text": [
      "1/1 [==============================] - 0s 45ms/step\n"
     ]
    },
    {
     "data": {
      "text/plain": [
       "'Ghost'"
      ]
     },
     "execution_count": 104,
     "metadata": {},
     "output_type": "execute_result"
    }
   ],
   "source": [
    "unique_types[np.argmax(model.predict(np.array([X_test[9]])))]"
   ]
  },
  {
   "cell_type": "code",
   "execution_count": 105,
   "id": "1253fe6a-fc0c-417c-9c6b-86d32d5363db",
   "metadata": {},
   "outputs": [
    {
     "data": {
      "text/plain": [
       "<matplotlib.image.AxesImage at 0x13209b160>"
      ]
     },
     "execution_count": 105,
     "metadata": {},
     "output_type": "execute_result"
    },
    {
     "data": {
      "image/png": "[encoded data removed]",
      "text/plain": [
       "<Figure size 640x480 with 1 Axes>"
      ]
     },
     "metadata": {},
     "output_type": "display_data"
    }
   ],
   "source": [
    "plt.imshow(X_test[9])"
   ]
  },
  {
   "cell_type": "code",
   "execution_count": 71,
   "id": "5c48fb14-9ddc-491b-9cf9-c94c27be3c52",
   "metadata": {},
   "outputs": [],
   "source": [
    "input_shape = X_test[0].shape"
   ]
  },
  {
   "cell_type": "code",
   "execution_count": 72,
   "id": "ad413bfc-4c2c-4222-931c-b03c5dda3f5a",
   "metadata": {},
   "outputs": [
    {
     "data": {
      "text/plain": [
       "(1, 120, 120, 4)"
      ]
     },
     "execution_count": 72,
     "metadata": {},
     "output_type": "execute_result"
    }
   ],
   "source": [
    "np.array([X_test[0]]).shape"
   ]
  },
  {
   "cell_type": "code",
   "execution_count": 106,
   "id": "30d250ee-4b22-4179-b362-d6ddd3fa8280",
   "metadata": {},
   "outputs": [
    {
     "data": {
      "text/plain": [
       "'Dragon'"
      ]
     },
     "execution_count": 106,
     "metadata": {},
     "output_type": "execute_result"
    }
   ],
   "source": [
    "unique_types[np.argmax(y_test[9])]"
   ]
  },
  {
   "cell_type": "code",
   "execution_count": null,
   "id": "7ffded37-9cc4-48fe-a5ef-070232c611b1",
   "metadata": {},
   "outputs": [],
   "source": []
  }
 ],
 "metadata": {
  "kernelspec": {
   "display_name": "Python 3 (ipykernel)",
   "language": "python",
   "name": "python3"
  },
  "language_info": {
   "codemirror_mode": {
    "name": "ipython",
    "version": 3
   },
   "file_extension": ".py",
   "mimetype": "text/x-python",
   "name": "python",
   "nbconvert_exporter": "python",
   "pygments_lexer": "ipython3",
   "version": "3.10.10"
  }
 },
 "nbformat": 4,
 "nbformat_minor": 5
}
